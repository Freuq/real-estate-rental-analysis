{
 "cells": [
  {
   "cell_type": "code",
   "execution_count": 2,
   "id": "662e62ff-ba63-4528-8ac1-8f787b1fbc16",
   "metadata": {
    "tags": []
   },
   "outputs": [],
   "source": [
    "import json\n",
    "\n",
    "with open(\"Data/BarcelonaCiutat_Districtes.json\", mode = \"r\") as file:\n",
    "    \n",
    "    datos_bcn = json.load(file)"
   ]
  },
  {
   "cell_type": "code",
   "execution_count": 6,
   "id": "24385925-eb7a-48c3-abce-a55cb8d02fd3",
   "metadata": {
    "tags": []
   },
   "outputs": [],
   "source": [
    "features = []\n",
    "for idx, district in enumerate(datos_bcn):\n",
    "    coordinates = [coord.strip().split() for coord in datos_bcn[idx]['geometria_wgs84'][10:-2].split(\",\")]\n",
    "    coordinates = [[float(c) for c in lat_lon] for lat_lon in coordinates]\n",
    "    json_district = {\n",
    "          \"type\": \"Feature\",\n",
    "          \"properties\": {\n",
    "            \"name\": district[\"nom_districte\"],\n",
    "            \"cartodb_id\": district['codi_districte'],\n",
    "            \"created_at\": \"2024-03-19\"\n",
    "          },\n",
    "          \"geometry\": {\n",
    "            \"type\": \"Polygon\",\n",
    "            \"coordinates\": [\n",
    "                [coordinates]\n",
    "            ]\n",
    "          }\n",
    "    }\n",
    "    features.append(json_district)"
   ]
  },
  {
   "cell_type": "code",
   "execution_count": 7,
   "id": "bb5b710f-d5f9-4646-9fd1-8be06b388c24",
   "metadata": {
    "tags": []
   },
   "outputs": [],
   "source": [
    "geojson_bcn = { \n",
    "            \"type\" : \"FeatureCollection\",\n",
    "            \"features\" : features}"
   ]
  },
  {
   "cell_type": "code",
   "execution_count": 8,
   "id": "5a6c74a6-7c8f-4fc3-9a7d-5cefb615ed92",
   "metadata": {
    "tags": []
   },
   "outputs": [],
   "source": [
    "with open('bcn_district.geojson', 'w') as file:\n",
    "    json.dump(geojson_bcn, file, indent=4)"
   ]
  }
 ],
 "metadata": {
  "kernelspec": {
   "display_name": "Python 3 (ipykernel)",
   "language": "python",
   "name": "python3"
  },
  "language_info": {
   "codemirror_mode": {
    "name": "ipython",
    "version": 3
   },
   "file_extension": ".py",
   "mimetype": "text/x-python",
   "name": "python",
   "nbconvert_exporter": "python",
   "pygments_lexer": "ipython3",
   "version": "3.11.5"
  }
 },
 "nbformat": 4,
 "nbformat_minor": 5
}
